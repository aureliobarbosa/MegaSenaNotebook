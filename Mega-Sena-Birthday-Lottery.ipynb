{
 "cells": [
  {
   "cell_type": "markdown",
   "metadata": {},
   "source": [
    "# Try Lottery!!!!\n",
    "### Generating a random numbers for lottery using a random number generator.\n",
    "\n",
    "Well, I decided that to won the lottery, here in Brazil, it is necessary to have certain spiritual connection with random numbers, so there was this moment where the stars where  shinning, and...\n",
    "\n",
    "```I decided to take the moment of my birth, as represented in Epoch, and use it as a seed for the random number generator of Numpy!```\n",
    "\n",
    "If you don't know what epoch time is, it is the number of seconds since the New Year of 1970 and, besides being used in many computer systems, including satellite systems, it has an interesting history that I saw elsewhere but is also described on [Wikipedia](https://en.wikipedia.org/wiki/Unix_time#History)!"
   ]
  },
  {
   "cell_type": "code",
   "execution_count": 4,
   "metadata": {},
   "outputs": [],
   "source": [
    "import numpy as np\n",
    "import datetime"
   ]
  },
  {
   "cell_type": "markdown",
   "metadata": {},
   "source": [
    "But let us first get my birth date and convert it to Epoch.  First, I needed to call my Mom:\n",
    "\n",
    "*- Mom, not that I could ever remember this moment, but... please, remember me which hour in the day I was born!*\n",
    "\n",
    "*- Well, son, last time you asked me that you where going to make an astrological map. Did you forget it?*\n",
    "\n",
    "*- Yes mom, I narely remember the equations I work on every day...*\n",
    "\n",
    "Then, following [this](https://stackoverflow.com/questions/11743019/convert-python-datetime-to-epoch-with-strftime):"
   ]
  },
  {
   "cell_type": "code",
   "execution_count": 5,
   "metadata": {},
   "outputs": [],
   "source": [
    "birth_date = datetime.datetime(1973,2,20,20,35)   # 20 02 1973 20:35\n",
    "birth_epoch = int( birth_date.timestamp() )"
   ]
  },
  {
   "cell_type": "markdown",
   "metadata": {},
   "source": [
    "### Playing Mega-Sena\n",
    "We will play **Mega-Sena**, which usually offers the biggest prizes here in Brazil, and whose basic game is to play 6 numbers among 60 numbers! \n",
    "\n",
    "There are many ways in it which it can be done! But I will stick with the rule that the valid numbers are chosen just after seeding the random number generator with my epoch birthday time... \n",
    "It could be different, but today it is got to be this way. \n",
    "\n",
    "My first choice is **shuffling all numbers** and getting the first 6 numbers."
   ]
  },
  {
   "cell_type": "code",
   "execution_count": 9,
   "metadata": {},
   "outputs": [
    {
     "output_type": "execute_result",
     "data": {
      "text/plain": "array([52, 43, 22, 33, 12, 20, 26,  7, 47, 58])"
     },
     "metadata": {},
     "execution_count": 9
    }
   ],
   "source": [
    "# Listing the possible numbers in Mega-Sena\n",
    "possible_numbers = np.arange(1,61)\n",
    "np.random.seed(birth_epoch)\n",
    "np.random.shuffle(possible_numbers)\n",
    "possible_numbers[0:10]"
   ]
  },
  {
   "cell_type": "code",
   "execution_count": 10,
   "metadata": {},
   "outputs": [
    {
     "output_type": "execute_result",
     "data": {
      "text/plain": "array([52, 43, 22, 33, 12, 20, 26,  7, 47, 58, 57, 37, 17, 44, 39, 25, 42,\n       48, 15, 23, 41,  6, 59, 40, 49, 24, 21, 10,  5,  3, 50, 54, 53, 51,\n       11, 31, 32, 27, 35, 45,  1, 60, 38, 36, 18, 16, 28, 55, 56, 46, 13,\n       29,  9, 14,  2, 19,  4, 34,  8, 30])"
     },
     "metadata": {},
     "execution_count": 10
    }
   ],
   "source": [
    "possible_numbers"
   ]
  },
  {
   "cell_type": "markdown",
   "metadata": {},
   "source": [
    "Another possibility is to choose 6 numbers among the list of possible number, without replacing them after you take them from the list! Note that I am restarting both the random seed and the list of possible numbers again because the function `np.random.shuffle()` changes the numpy array where the Mega-Sena numbers are stored."
   ]
  },
  {
   "cell_type": "code",
   "execution_count": 7,
   "metadata": {},
   "outputs": [
    {
     "output_type": "execute_result",
     "data": {
      "text/plain": "array([52, 43, 22, 33, 12, 20])"
     },
     "metadata": {},
     "execution_count": 7
    }
   ],
   "source": [
    "possible_numbers = np.arange(1,61)\n",
    "np.random.seed(birth_epoch)\n",
    "np.random.choice(possible_numbers,6,replace=False)"
   ]
  },
  {
   "cell_type": "markdown",
   "metadata": {},
   "source": [
    "Ha, ha! Note that, as they use the same algorithm, those are my numbers!"
   ]
  },
  {
   "cell_type": "code",
   "execution_count": null,
   "metadata": {},
   "outputs": [],
   "source": []
  }
 ],
 "metadata": {
  "kernelspec": {
   "display_name": "Python 3",
   "language": "python",
   "name": "python3"
  },
  "language_info": {
   "codemirror_mode": {
    "name": "ipython",
    "version": 3
   },
   "file_extension": ".py",
   "mimetype": "text/x-python",
   "name": "python",
   "nbconvert_exporter": "python",
   "pygments_lexer": "ipython3",
   "version": "3.7.6-final"
  }
 },
 "nbformat": 4,
 "nbformat_minor": 2
}